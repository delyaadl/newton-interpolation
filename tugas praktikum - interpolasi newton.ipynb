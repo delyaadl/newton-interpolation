{
 "cells": [
  {
   "cell_type": "markdown",
   "metadata": {},
   "source": [
    "# DELYA - 535180076\n",
    "## Interpolasi Newton"
   ]
  },
  {
   "cell_type": "code",
   "execution_count": 1,
   "metadata": {},
   "outputs": [],
   "source": [
    "import math\n",
    "import numpy as np"
   ]
  },
  {
   "cell_type": "code",
   "execution_count": 2,
   "metadata": {},
   "outputs": [],
   "source": [
    "def errorRate(x, bx):\n",
    "    return abs((x - bx)/x)*100"
   ]
  },
  {
   "cell_type": "code",
   "execution_count": 3,
   "metadata": {},
   "outputs": [],
   "source": [
    "def b(fx, x, n):\n",
    "    if n == 2:\n",
    "        return (((fx[n]-fx[n-1])/(x[n]-x[n-1])) - b(fx, x, n-1)) / (x[n]-x[n-2])\n",
    "    elif n == 1:\n",
    "        return (fx[n]- b(fx, x, n-1))/(x[n]-x[n-1])\n",
    "    elif n == 0:\n",
    "        return fx[n]\n",
    "    else:\n",
    "        return ((((fx[n]-fx[n-1])/(x[n]-x[n-1]) - (fx[n-1]-fx[n-2])/(x[n-1]-x[n-2]))/(x[n]-x[n-2])) - b(fx, x, n-1)) / (x[-1]-x[0])"
   ]
  },
  {
   "cell_type": "code",
   "execution_count": 4,
   "metadata": {},
   "outputs": [],
   "source": [
    "def interpolasi(fx, x, nilai, n, subRes):    \n",
    "    if n == 0:\n",
    "        return b(fx,x,n)\n",
    "    else:\n",
    "        return b(fx,x,n)*subRes + interpolasi(fx,x,nilai,n-1, subRes/sub[n-1])"
   ]
  },
  {
   "cell_type": "code",
   "execution_count": 17,
   "metadata": {},
   "outputs": [
    {
     "name": "stdout",
     "output_type": "stream",
     "text": [
      "masukkan deretan x pisahkan dengan spasi:10.5 12 12.4\n",
      "masukkan deretan f(x) pisahkan dengan spasi:45.2 58.1 60.2\n",
      "masukkan x yang f(x)nya ingin dicari:11.5\n",
      "masukkan f(x) sebenarnya:55.12\n",
      "hasil interpolasi: 54.6816\n",
      "errorRate: 0.7954\n"
     ]
    }
   ],
   "source": [
    "inp1 = input('masukkan deretan x pisahkan dengan spasi:')\n",
    "inp2 = input('masukkan deretan f(x) pisahkan dengan spasi:')\n",
    "nilai = float(input('masukkan x yang f(x)nya ingin dicari:'))\n",
    "ns = float(input('masukkan f(x) sebenarnya:'))\n",
    "\n",
    "x = np.fromstring(inp1, dtype=float, sep=' ')\n",
    "fx = np.fromstring(inp2, dtype=float, sep=' ')\n",
    "\n",
    "subRes = 1\n",
    "\n",
    "sub = nilai - np.array(x[:-1])\n",
    "\n",
    "for i in sub:\n",
    "    subRes = subRes * i\n",
    "\n",
    "for i in range(len(fx)):\n",
    "    res = b(fx, x, i)\n",
    "\n",
    "result = round(interpolasi(fx, x, 11.5, len(fx)-1, subRes), 4)\n",
    "print(\"hasil interpolasi:\", result)\n",
    "print(\"errorRate:\",round(errorRate(ns, result), 4))"
   ]
  },
  {
   "cell_type": "code",
   "execution_count": null,
   "metadata": {},
   "outputs": [],
   "source": []
  }
 ],
 "metadata": {
  "kernelspec": {
   "display_name": "Python 3",
   "language": "python",
   "name": "python3"
  },
  "language_info": {
   "codemirror_mode": {
    "name": "ipython",
    "version": 3
   },
   "file_extension": ".py",
   "mimetype": "text/x-python",
   "name": "python",
   "nbconvert_exporter": "python",
   "pygments_lexer": "ipython3",
   "version": "3.8.3"
  }
 },
 "nbformat": 4,
 "nbformat_minor": 4
}
